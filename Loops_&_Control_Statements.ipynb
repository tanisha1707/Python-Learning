{
  "nbformat": 4,
  "nbformat_minor": 0,
  "metadata": {
    "colab": {
      "provenance": [],
      "authorship_tag": "ABX9TyOnX/3vgwUhJbq3lv0+ZR0R",
      "include_colab_link": true
    },
    "kernelspec": {
      "name": "python3",
      "display_name": "Python 3"
    },
    "language_info": {
      "name": "python"
    }
  },
  "cells": [
    {
      "cell_type": "markdown",
      "metadata": {
        "id": "view-in-github",
        "colab_type": "text"
      },
      "source": [
        "<a href=\"https://colab.research.google.com/github/tanisha1707/Python-Learning/blob/main/Loops_%26_Control_Statements.ipynb\" target=\"_parent\"><img src=\"https://colab.research.google.com/assets/colab-badge.svg\" alt=\"Open In Colab\"/></a>"
      ]
    },
    {
      "cell_type": "code",
      "execution_count": 1,
      "metadata": {
        "colab": {
          "base_uri": "https://localhost:8080/"
        },
        "id": "S3NcUvj53SZ_",
        "outputId": "acec4ad5-c541-4646-d7a2-fdf3b5c7ee09"
      },
      "outputs": [
        {
          "output_type": "stream",
          "name": "stdout",
          "text": [
            "enter the number45\n",
            "45.0\n"
          ]
        }
      ],
      "source": [
        "## type casting example\n",
        "val=input(\"enter the number\")\n",
        "value_float=float(val)\n",
        "print(value_float)\n"
      ]
    },
    {
      "cell_type": "code",
      "source": [
        "## If statement\n",
        "val = input(\"Enter the number: \")\n",
        "value_float = float(val)\n",
        "\n",
        "if (value_float % 2==0):\n",
        "    print(\"The number is a even number\")"
      ],
      "metadata": {
        "colab": {
          "base_uri": "https://localhost:8080/"
        },
        "id": "1d2xoflL7i1T",
        "outputId": "53b439f4-1771-4180-b236-d12f0e9cf649"
      },
      "execution_count": 5,
      "outputs": [
        {
          "output_type": "stream",
          "name": "stdout",
          "text": [
            "Enter the number: 24\n",
            "The number is a even number\n"
          ]
        }
      ]
    },
    {
      "cell_type": "code",
      "source": [
        "## If else statement\n",
        "val = input(\"Enter the number: \")\n",
        "value_float = float(val)\n",
        "\n",
        "if (value_float % 2==0):\n",
        "    print(\"The number is a even number\")\n",
        "else:\n",
        "  print(\"the number is odd number\")\n",
        ""
      ],
      "metadata": {
        "colab": {
          "base_uri": "https://localhost:8080/"
        },
        "id": "xvnJkHne8tdi",
        "outputId": "10a4e102-eb1d-40e2-eee7-2c182c6213b3"
      },
      "execution_count": 7,
      "outputs": [
        {
          "output_type": "stream",
          "name": "stdout",
          "text": [
            "Enter the number: 23\n",
            "the number is odd number\n"
          ]
        }
      ]
    },
    {
      "cell_type": "code",
      "source": [
        "## Nested if else\n",
        "#we write elif for else if\n",
        "\n",
        "age=float(input(\"enter the age\"))\n",
        "\n",
        "if(age<18):\n",
        "  print(\"Padayi karo\")\n",
        "\n",
        "elif(age>=18 and age<=45):\n",
        "  print(\"Job Karo\")\n",
        "\n",
        "elif(age>45 and age<=50):\n",
        "  print(\"Senior citizens\")\n",
        "\n",
        "else:\n",
        "  print(\"you are going to die soon\")\n"
      ],
      "metadata": {
        "colab": {
          "base_uri": "https://localhost:8080/"
        },
        "id": "ZfqORK8p9sLq",
        "outputId": "5c851c45-6ecb-4a18-d5d0-9e273b95536b"
      },
      "execution_count": 15,
      "outputs": [
        {
          "output_type": "stream",
          "name": "stdout",
          "text": [
            "enter the age47\n",
            "Senior citizens\n"
          ]
        }
      ]
    },
    {
      "cell_type": "code",
      "source": [
        "## Loop Statements\n",
        "## For loop\n",
        "\n",
        "lst=[1,2,3,4,5,6,7]\n",
        "for i in lst:\n",
        "    print(i)"
      ],
      "metadata": {
        "colab": {
          "base_uri": "https://localhost:8080/"
        },
        "id": "rHLt5c__BMSW",
        "outputId": "ba9e8f8a-4231-4b89-f9b6-2c302cf5c379"
      },
      "execution_count": 17,
      "outputs": [
        {
          "output_type": "stream",
          "name": "stdout",
          "text": [
            "1\n",
            "2\n",
            "3\n",
            "4\n",
            "5\n",
            "6\n",
            "7\n"
          ]
        }
      ]
    },
    {
      "cell_type": "code",
      "source": [
        "## example:- Find the sum of all the elements in the list\n",
        "\n",
        "lst=[1,2,3,4,5,6,7]\n",
        "sum1=0\n",
        "for i in lst:\n",
        "    sum1=sum1+i\n",
        "\n",
        "print(sum1)"
      ],
      "metadata": {
        "colab": {
          "base_uri": "https://localhost:8080/"
        },
        "id": "6dfdcmt6CERd",
        "outputId": "9b41183a-b2e6-4866-fc19-ec31ea8ff556"
      },
      "execution_count": 20,
      "outputs": [
        {
          "output_type": "stream",
          "name": "stdout",
          "text": [
            "28\n"
          ]
        }
      ]
    },
    {
      "cell_type": "code",
      "source": [
        "## Example:- find the sum of even and odd numbers\n",
        "\n",
        "lst=[1,2,3,4,5,6,7,8]\n",
        "even_sum=0\n",
        "odd_sum=0\n",
        "\n",
        "for i in lst:\n",
        "  if(i%2==0):\n",
        "     even_sum = even_sum + i\n",
        "  else:\n",
        "    odd_sum = odd_sum + i\n",
        "print(\"Even numbers sum is{}\".format(even_sum))\n",
        "print(\"Odd numbers sum is{}\".format(odd_sum))\n"
      ],
      "metadata": {
        "colab": {
          "base_uri": "https://localhost:8080/"
        },
        "id": "97-UjqzQCsww",
        "outputId": "a48eef52-4896-4360-bde0-e0b6bec50770"
      },
      "execution_count": 21,
      "outputs": [
        {
          "output_type": "stream",
          "name": "stdout",
          "text": [
            "Even numbers sum is20\n",
            "Odd numbers sum is16\n"
          ]
        }
      ]
    },
    {
      "cell_type": "code",
      "source": [
        "## while loop\n",
        "\n",
        "i=0\n",
        "while(i<=10):\n",
        "  print(i)\n",
        "  i=i+1"
      ],
      "metadata": {
        "colab": {
          "base_uri": "https://localhost:8080/"
        },
        "id": "sV0_-hpsEbdY",
        "outputId": "8e635ad1-e839-47af-9de8-3f3e7274b2bc"
      },
      "execution_count": 22,
      "outputs": [
        {
          "output_type": "stream",
          "name": "stdout",
          "text": [
            "0\n",
            "1\n",
            "2\n",
            "3\n",
            "4\n",
            "5\n",
            "6\n",
            "7\n",
            "8\n",
            "9\n",
            "10\n"
          ]
        }
      ]
    },
    {
      "cell_type": "code",
      "source": [
        "## Break statement\n",
        "x=1\n",
        "while(x<7):\n",
        "  print(x)\n",
        "  if x==4:\n",
        "    break\n",
        "  x=x+1\n"
      ],
      "metadata": {
        "colab": {
          "base_uri": "https://localhost:8080/"
        },
        "id": "kv6IsCI5F9fx",
        "outputId": "3bc798db-0927-4c0c-b0cb-5aaea14a1faf"
      },
      "execution_count": 23,
      "outputs": [
        {
          "output_type": "stream",
          "name": "stdout",
          "text": [
            "1\n",
            "2\n",
            "3\n",
            "4\n"
          ]
        }
      ]
    },
    {
      "cell_type": "code",
      "source": [
        "## Continue statement\n",
        "x = 0\n",
        "while x < 7:\n",
        "    x = x + 1\n",
        "    if x == 4:\n",
        "        continue   # skips printing 4\n",
        "    print(x)"
      ],
      "metadata": {
        "colab": {
          "base_uri": "https://localhost:8080/"
        },
        "id": "o2pzQXcEGdCI",
        "outputId": "203074ff-6004-43e3-804d-bd8adbabc574"
      },
      "execution_count": 3,
      "outputs": [
        {
          "output_type": "stream",
          "name": "stdout",
          "text": [
            "1\n",
            "2\n",
            "3\n",
            "5\n",
            "6\n",
            "7\n"
          ]
        }
      ]
    },
    {
      "cell_type": "code",
      "source": [],
      "metadata": {
        "id": "iORXSGqCHBtm"
      },
      "execution_count": null,
      "outputs": []
    }
  ]
}