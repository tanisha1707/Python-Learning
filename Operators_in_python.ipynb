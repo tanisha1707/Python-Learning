{
  "nbformat": 4,
  "nbformat_minor": 0,
  "metadata": {
    "colab": {
      "provenance": [],
      "authorship_tag": "ABX9TyPcsim+iNKTznYMRAGUsEpU",
      "include_colab_link": true
    },
    "kernelspec": {
      "name": "python3",
      "display_name": "Python 3"
    },
    "language_info": {
      "name": "python"
    }
  },
  "cells": [
    {
      "cell_type": "markdown",
      "metadata": {
        "id": "view-in-github",
        "colab_type": "text"
      },
      "source": [
        "<a href=\"https://colab.research.google.com/github/tanisha1707/Python-Learning/blob/main/Operators_in_python.ipynb\" target=\"_parent\"><img src=\"https://colab.research.google.com/assets/colab-badge.svg\" alt=\"Open In Colab\"/></a>"
      ]
    },
    {
      "cell_type": "markdown",
      "source": [
        "**Operators in python**\n",
        "1.   logical\n",
        "2.   equality\n",
        "3. comparison\n",
        "4. arithmatic\n",
        "4.1.1 Logical Operators\n",
        "In python following keywords are used for boolean operations -\n",
        "\n",
        "Keywords & their Meaning\n",
        "---\n",
        "not\t    ->   unary negation,\n",
        "and\t     ->   conditional AND,\n",
        "or\t     ->  conditional OR\n",
        "\n"
      ],
      "metadata": {
        "id": "IGuq9zgpN1b3"
      }
    },
    {
      "cell_type": "code",
      "execution_count": 1,
      "metadata": {
        "colab": {
          "base_uri": "https://localhost:8080/"
        },
        "id": "olLCLLgdNus1",
        "outputId": "4c9d9bc9-ebb6-451b-83d9-637e07dba170"
      },
      "outputs": [
        {
          "output_type": "execute_result",
          "data": {
            "text/plain": [
              "bool"
            ]
          },
          "metadata": {},
          "execution_count": 1
        }
      ],
      "source": [
        "type(True)"
      ]
    },
    {
      "cell_type": "code",
      "source": [
        "bool(1)"
      ],
      "metadata": {
        "colab": {
          "base_uri": "https://localhost:8080/"
        },
        "id": "JBYKI_3-PZ_5",
        "outputId": "274b8fe9-5bf3-4cd2-c1e1-995bd38682d0"
      },
      "execution_count": 2,
      "outputs": [
        {
          "output_type": "execute_result",
          "data": {
            "text/plain": [
              "True"
            ]
          },
          "metadata": {},
          "execution_count": 2
        }
      ]
    },
    {
      "cell_type": "code",
      "source": [
        "bool(0)"
      ],
      "metadata": {
        "colab": {
          "base_uri": "https://localhost:8080/"
        },
        "id": "EhcGduQOPh9G",
        "outputId": "7784e080-1ebb-414c-ab20-62e029eab45c"
      },
      "execution_count": 3,
      "outputs": [
        {
          "output_type": "execute_result",
          "data": {
            "text/plain": [
              "False"
            ]
          },
          "metadata": {},
          "execution_count": 3
        }
      ]
    },
    {
      "cell_type": "code",
      "source": [
        "## Logical statement\n",
        "\n",
        "age=int(input(\"Enter the age\"))\n",
        "if age<18 or age>=35:\n",
        "    print(\"Successful execution\")\n"
      ],
      "metadata": {
        "colab": {
          "base_uri": "https://localhost:8080/"
        },
        "id": "3oXtJaYnPkZI",
        "outputId": "9ea8bc29-a3cb-4c17-e668-a39e355a9010"
      },
      "execution_count": 3,
      "outputs": [
        {
          "output_type": "stream",
          "name": "stdout",
          "text": [
            "Enter the age16\n",
            "Successful execution\n"
          ]
        }
      ]
    },
    {
      "cell_type": "markdown",
      "source": [
        "**Equality Operators**\n",
        "Following operations are present in python for equlity check operation-\n",
        "\n",
        "**Operators:-**\n",
        "\n",
        "**is** ->\ta is b returns true if variable/identifiers a and b points to the same object.\n",
        "\n",
        "**is not** ->\ta is not b returns true if variable/identifiers a and b points to the different object.\n",
        "\n",
        "**==** ->\ta == b returns true if variable/identifiers a and b has same value.\n",
        "\n",
        "**!=** ->\ta != b returns true if variable/identifiers a and b has different value"
      ],
      "metadata": {
        "id": "NOlQRt2BGrgg"
      }
    },
    {
      "cell_type": "code",
      "source": [
        "a=\"Krish\"\n",
        "b=\"Krish1\"\n",
        "\n",
        "a==b"
      ],
      "metadata": {
        "colab": {
          "base_uri": "https://localhost:8080/"
        },
        "id": "Ki7ySFclFpnB",
        "outputId": "39e7d759-dc97-4cb6-f537-33433c2cf873"
      },
      "execution_count": 4,
      "outputs": [
        {
          "output_type": "execute_result",
          "data": {
            "text/plain": [
              "False"
            ]
          },
          "metadata": {},
          "execution_count": 4
        }
      ]
    },
    {
      "cell_type": "code",
      "source": [
        "age=int(input(\"Enter the age\"))\n",
        "\n",
        "if age==18:\n",
        "    print(\"You are in the teenager age\")\n",
        "else:\n",
        "  print(\"tum bade ho gaye ho\")"
      ],
      "metadata": {
        "colab": {
          "base_uri": "https://localhost:8080/"
        },
        "id": "LbmvPvolHvFW",
        "outputId": "4ce66329-cb6d-4bc6-d7d6-07bd90716551"
      },
      "execution_count": 7,
      "outputs": [
        {
          "output_type": "stream",
          "name": "stdout",
          "text": [
            "Enter the age20\n",
            "tum bade ho gaye ho\n"
          ]
        }
      ]
    },
    {
      "cell_type": "code",
      "source": [
        "a=\"Tanisha\"\n",
        "b=\"Tanisha\"\n",
        "print(id(a)) #id(a) aapko dikha dega ki konsi memory object me point hua he\n",
        "print(id(b))\n"
      ],
      "metadata": {
        "colab": {
          "base_uri": "https://localhost:8080/"
        },
        "id": "KGSgv8xTHx41",
        "outputId": "2023eea8-ee65-44fe-a67f-e10ede21dc80"
      },
      "execution_count": 1,
      "outputs": [
        {
          "output_type": "stream",
          "name": "stdout",
          "text": [
            "133477960485168\n",
            "133477960485168\n"
          ]
        }
      ]
    },
    {
      "cell_type": "code",
      "source": [
        "a is b ## return true because 'is' operator check that they are pointing to same memory object or not"
      ],
      "metadata": {
        "colab": {
          "base_uri": "https://localhost:8080/"
        },
        "id": "zEmHoKWtz1IV",
        "outputId": "f1fd1317-cadc-4dab-ac1d-6e3869a1dd70"
      },
      "execution_count": 2,
      "outputs": [
        {
          "output_type": "execute_result",
          "data": {
            "text/plain": [
              "True"
            ]
          },
          "metadata": {},
          "execution_count": 2
        }
      ]
    },
    {
      "cell_type": "code",
      "source": [
        "lst=[1,2,3]\n",
        "lst1=[1,2,3]\n",
        "print(id(lst))\n",
        "print(id(lst1)) #id of this two will be diff because jab bhi ham koi collection vala item banate unko object diff tarike se create hota he even though the values are same"
      ],
      "metadata": {
        "colab": {
          "base_uri": "https://localhost:8080/"
        },
        "id": "J-HhqXhrz5aL",
        "outputId": "7e3f8867-d712-4ecd-999c-a876e256dacc"
      },
      "execution_count": 1,
      "outputs": [
        {
          "output_type": "stream",
          "name": "stdout",
          "text": [
            "135493107153472\n",
            "135493107152576\n"
          ]
        }
      ]
    },
    {
      "cell_type": "code",
      "source": [
        "lst is lst1"
      ],
      "metadata": {
        "colab": {
          "base_uri": "https://localhost:8080/"
        },
        "id": "5hJyTRW8f8mp",
        "outputId": "73e969d7-f19f-420f-ae2b-486e3eb449eb"
      },
      "execution_count": 2,
      "outputs": [
        {
          "output_type": "execute_result",
          "data": {
            "text/plain": [
              "False"
            ]
          },
          "metadata": {},
          "execution_count": 2
        }
      ]
    },
    {
      "cell_type": "markdown",
      "source": [
        "**comparison operators**\n",
        "\n",
        "\n",
        "\n",
        "**<**\t  less than\n",
        "\n",
        "**<=**  less than or equal to\n",
        "\n",
        "**>** \tgreater than\n",
        "\n",
        "**>=**  greater than or equal to\n",
        "\n"
      ],
      "metadata": {
        "id": "SPqnlZFHgFwx"
      }
    },
    {
      "cell_type": "code",
      "source": [
        "marks= float(input(\"Enter the marks\"))\n",
        "\n",
        "if marks>=35:\n",
        "    print(\"Pass\")\n",
        "    if marks>=50 and marks<=70:\n",
        "        print(\"First\")\n",
        "elif marks<35:\n",
        "    print(\"Fail\")"
      ],
      "metadata": {
        "colab": {
          "base_uri": "https://localhost:8080/"
        },
        "id": "nmlltZruf_nR",
        "outputId": "569911a1-51b7-46b9-d617-ff84d6eb8404"
      },
      "execution_count": 3,
      "outputs": [
        {
          "output_type": "stream",
          "name": "stdout",
          "text": [
            "Enter the marks55\n",
            "Pass\n",
            "First\n"
          ]
        }
      ]
    },
    {
      "cell_type": "markdown",
      "source": [
        "**Arithmetic Operators**\n",
        "\n",
        " addition             **+**\t  \n",
        "\n",
        " subtraction          **-**\t  \n",
        "\n",
        " true division        **/**\t  \n",
        "\n",
        "integer division      **//**\n",
        "\n",
        "the modulo operator     %\n",
        "\n",
        " multiplication        *\n",
        "\n",
        "\n",
        "\n",
        "\n"
      ],
      "metadata": {
        "id": "kUW0dlqjhc-4"
      }
    },
    {
      "cell_type": "code",
      "source": [
        "24+24"
      ],
      "metadata": {
        "colab": {
          "base_uri": "https://localhost:8080/"
        },
        "id": "AHZVyaRCieD6",
        "outputId": "5a6b6a93-b2ae-4cd2-9b0a-9f286d4ff972"
      },
      "execution_count": 4,
      "outputs": [
        {
          "output_type": "execute_result",
          "data": {
            "text/plain": [
              "48"
            ]
          },
          "metadata": {},
          "execution_count": 4
        }
      ]
    },
    {
      "cell_type": "code",
      "source": [
        "48-24"
      ],
      "metadata": {
        "colab": {
          "base_uri": "https://localhost:8080/"
        },
        "id": "DbOFObV7ikni",
        "outputId": "2a0a0b4a-d9c6-4f97-929b-71db416372f5"
      },
      "execution_count": 5,
      "outputs": [
        {
          "output_type": "execute_result",
          "data": {
            "text/plain": [
              "24"
            ]
          },
          "metadata": {},
          "execution_count": 5
        }
      ]
    },
    {
      "cell_type": "code",
      "source": [
        "48*24"
      ],
      "metadata": {
        "colab": {
          "base_uri": "https://localhost:8080/"
        },
        "id": "uranO9EKimP5",
        "outputId": "8caf6ab9-51dc-49c6-a1ff-6c5abbd2a5c9"
      },
      "execution_count": 6,
      "outputs": [
        {
          "output_type": "execute_result",
          "data": {
            "text/plain": [
              "1152"
            ]
          },
          "metadata": {},
          "execution_count": 6
        }
      ]
    },
    {
      "cell_type": "code",
      "source": [
        "48/4"
      ],
      "metadata": {
        "colab": {
          "base_uri": "https://localhost:8080/"
        },
        "id": "K3-7ADN0ioQh",
        "outputId": "60cf66c4-aeb9-4a07-fea1-8814b8aa0475"
      },
      "execution_count": 7,
      "outputs": [
        {
          "output_type": "execute_result",
          "data": {
            "text/plain": [
              "12.0"
            ]
          },
          "metadata": {},
          "execution_count": 7
        }
      ]
    },
    {
      "cell_type": "code",
      "source": [
        "48//5"
      ],
      "metadata": {
        "colab": {
          "base_uri": "https://localhost:8080/"
        },
        "id": "nfHb2Lz-iqfJ",
        "outputId": "01832787-7437-45f8-f3ef-26a245129a11"
      },
      "execution_count": 8,
      "outputs": [
        {
          "output_type": "execute_result",
          "data": {
            "text/plain": [
              "9"
            ]
          },
          "metadata": {},
          "execution_count": 8
        }
      ]
    },
    {
      "cell_type": "code",
      "source": [
        "48%5"
      ],
      "metadata": {
        "colab": {
          "base_uri": "https://localhost:8080/"
        },
        "id": "kKAUGlL_isT5",
        "outputId": "6e563357-763d-4b07-82ad-afb579dd9d9a"
      },
      "execution_count": 9,
      "outputs": [
        {
          "output_type": "execute_result",
          "data": {
            "text/plain": [
              "3"
            ]
          },
          "metadata": {},
          "execution_count": 9
        }
      ]
    },
    {
      "cell_type": "code",
      "source": [],
      "metadata": {
        "id": "MB82L_d3iuFp"
      },
      "execution_count": null,
      "outputs": []
    }
  ]
}