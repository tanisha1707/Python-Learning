{
  "nbformat": 4,
  "nbformat_minor": 0,
  "metadata": {
    "colab": {
      "provenance": [],
      "authorship_tag": "ABX9TyNWmIhNHVWuQQsx6rjn/OvD",
      "include_colab_link": true
    },
    "kernelspec": {
      "name": "python3",
      "display_name": "Python 3"
    },
    "language_info": {
      "name": "python"
    }
  },
  "cells": [
    {
      "cell_type": "markdown",
      "metadata": {
        "id": "view-in-github",
        "colab_type": "text"
      },
      "source": [
        "<a href=\"https://colab.research.google.com/github/tanisha1707/Python-Learning/blob/main/Python_Baisc_2.ipynb\" target=\"_parent\"><img src=\"https://colab.research.google.com/assets/colab-badge.svg\" alt=\"Open In Colab\"/></a>"
      ]
    },
    {
      "cell_type": "code",
      "execution_count": 1,
      "metadata": {
        "colab": {
          "base_uri": "https://localhost:8080/",
          "height": 53
        },
        "id": "bD9uIt2Vz-1b",
        "outputId": "27878caa-370f-4f42-9818-87a0b34eee61"
      },
      "outputs": [
        {
          "name": "stdout",
          "output_type": "stream",
          "text": [
            "Enter the nameTanisha\n"
          ]
        },
        {
          "output_type": "execute_result",
          "data": {
            "text/plain": [
              "'Tanisha'"
            ],
            "application/vnd.google.colaboratory.intrinsic+json": {
              "type": "string"
            }
          },
          "metadata": {},
          "execution_count": 1
        }
      ],
      "source": [
        "## Input type\n",
        "input(\"Enter the name\")"
      ]
    },
    {
      "cell_type": "code",
      "source": [
        "a=input(\"Enter number a\")\n",
        "b=input(\"Enter number b\")\n",
        "print(a+b) #It will return the concatenation not the actual addition"
      ],
      "metadata": {
        "colab": {
          "base_uri": "https://localhost:8080/"
        },
        "id": "7Qh2Y3rU0EJy",
        "outputId": "00176e74-272e-40c3-8b7b-6187929d3d51"
      },
      "execution_count": 3,
      "outputs": [
        {
          "output_type": "stream",
          "name": "stdout",
          "text": [
            "Enter number a23\n",
            "Enter number b17\n",
            "2317\n"
          ]
        }
      ]
    },
    {
      "cell_type": "code",
      "source": [
        "a=input(\"Enter number a\")\n",
        "b=input(\"Enter number b\")\n",
        "print(int(a)+int(b))\n"
      ],
      "metadata": {
        "colab": {
          "base_uri": "https://localhost:8080/"
        },
        "id": "IKPTzb6R1gx4",
        "outputId": "c856cfed-0ff4-426e-fa62-4d40dfcf95d9"
      },
      "execution_count": 4,
      "outputs": [
        {
          "output_type": "stream",
          "name": "stdout",
          "text": [
            "Enter number a23\n",
            "Enter number b17\n",
            "40\n"
          ]
        }
      ]
    }
  ]
}