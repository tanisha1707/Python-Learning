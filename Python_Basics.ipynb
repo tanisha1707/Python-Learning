{
  "nbformat": 4,
  "nbformat_minor": 0,
  "metadata": {
    "colab": {
      "provenance": [],
      "authorship_tag": "ABX9TyM7SLMJrQARxbb/xKfJUJ3+",
      "include_colab_link": true
    },
    "kernelspec": {
      "name": "python3",
      "display_name": "Python 3"
    },
    "language_info": {
      "name": "python"
    }
  },
  "cells": [
    {
      "cell_type": "markdown",
      "metadata": {
        "id": "view-in-github",
        "colab_type": "text"
      },
      "source": [
        "<a href=\"https://colab.research.google.com/github/tanisha1707/Python-Learning/blob/main/Python_Basics.ipynb\" target=\"_parent\"><img src=\"https://colab.research.google.com/assets/colab-badge.svg\" alt=\"Open In Colab\"/></a>"
      ]
    },
    {
      "cell_type": "code",
      "execution_count": null,
      "metadata": {
        "colab": {
          "base_uri": "https://localhost:8080/"
        },
        "id": "oyIQ3kfQ4zUL",
        "outputId": "812a844d-53cc-46c1-d665-795dde3fb1e7"
      },
      "outputs": [
        {
          "output_type": "stream",
          "name": "stdout",
          "text": [
            "hello Python\n"
          ]
        }
      ],
      "source": [
        "print(\"hello Python\")"
      ]
    },
    {
      "cell_type": "code",
      "source": [
        "# single line and multiline comment\n",
        "'''\n",
        "welcome to my pyhton basics code file\n",
        "it includes python from basics to advance.\n",
        "'''\n",
        "print(\"hello\")"
      ],
      "metadata": {
        "colab": {
          "base_uri": "https://localhost:8080/"
        },
        "id": "zzxFlAS3-arT",
        "outputId": "1aeeee9e-f361-47be-b7d6-1a641885d05d"
      },
      "execution_count": null,
      "outputs": [
        {
          "output_type": "stream",
          "name": "stdout",
          "text": [
            "hello\n"
          ]
        }
      ]
    },
    {
      "cell_type": "code",
      "source": [
        "# Varialble Declaration in python\n",
        "a=10\n",
        "type(a)\n",
        "\n",
        "name =\"Tanisha\"\n",
        "type(name)\n"
      ],
      "metadata": {
        "colab": {
          "base_uri": "https://localhost:8080/"
        },
        "id": "Gbsq7z22-lT7",
        "outputId": "ef3d7824-0ee9-4d27-b56d-84f8ee72e43e"
      },
      "execution_count": null,
      "outputs": [
        {
          "output_type": "execute_result",
          "data": {
            "text/plain": [
              "str"
            ]
          },
          "metadata": {},
          "execution_count": 8
        }
      ]
    },
    {
      "cell_type": "code",
      "source": [
        "# Data Types\n",
        "\n",
        "## integers\n",
        "a=10\n",
        "type(a)\n"
      ],
      "metadata": {
        "colab": {
          "base_uri": "https://localhost:8080/"
        },
        "id": "xrzmrV90AIR8",
        "outputId": "730ad4a7-b736-4a94-9a14-1754e47c3f97"
      },
      "execution_count": null,
      "outputs": [
        {
          "output_type": "execute_result",
          "data": {
            "text/plain": [
              "int"
            ]
          },
          "metadata": {},
          "execution_count": 10
        }
      ]
    },
    {
      "cell_type": "code",
      "source": [
        "## float\n",
        "a=190.5\n",
        "print(type(a))\n"
      ],
      "metadata": {
        "colab": {
          "base_uri": "https://localhost:8080/"
        },
        "id": "CrNAwZDiFTl_",
        "outputId": "dc0bbb48-3fd7-4afc-9219-57515f8cb85e"
      },
      "execution_count": null,
      "outputs": [
        {
          "output_type": "stream",
          "name": "stdout",
          "text": [
            "<class 'float'>\n"
          ]
        }
      ]
    },
    {
      "cell_type": "code",
      "source": [
        "##Boolean\n",
        "a1=True\n",
        "b1=False\n",
        "\n",
        "print(type(a1))"
      ],
      "metadata": {
        "colab": {
          "base_uri": "https://localhost:8080/"
        },
        "id": "3ZLSSalKFn6n",
        "outputId": "3842d00d-4af0-46ba-b0fb-28462a338737"
      },
      "execution_count": null,
      "outputs": [
        {
          "output_type": "stream",
          "name": "stdout",
          "text": [
            "<class 'bool'>\n"
          ]
        }
      ]
    },
    {
      "cell_type": "code",
      "source": [
        "##Strings\n",
        "name1=\"Tanisha\"\n",
        "name2=\"Dhakad\"\n",
        "\n",
        "print(name1)\n",
        "print(type(name1))"
      ],
      "metadata": {
        "colab": {
          "base_uri": "https://localhost:8080/"
        },
        "id": "wOx99SknGFjW",
        "outputId": "56bd4175-02f3-442c-acf4-a57828f4c66c"
      },
      "execution_count": null,
      "outputs": [
        {
          "output_type": "stream",
          "name": "stdout",
          "text": [
            "Tanisha\n",
            "<class 'str'>\n"
          ]
        }
      ]
    },
    {
      "cell_type": "code",
      "source": [
        "##Concatenation\n",
        "name1+ name2"
      ],
      "metadata": {
        "colab": {
          "base_uri": "https://localhost:8080/",
          "height": 36
        },
        "id": "4GqVHb5wGaxm",
        "outputId": "4b859f31-6e3d-4836-ef95-0fc731800a8a"
      },
      "execution_count": null,
      "outputs": [
        {
          "output_type": "execute_result",
          "data": {
            "text/plain": [
              "'TanishaDhakad'"
            ],
            "application/vnd.google.colaboratory.intrinsic+json": {
              "type": "string"
            }
          },
          "metadata": {},
          "execution_count": 16
        }
      ]
    },
    {
      "cell_type": "code",
      "source": [
        "##Dynamic Typing\n",
        "a=10\n",
        "a=\"Tanisha\"\n",
        "\n",
        "print(a)\n"
      ],
      "metadata": {
        "colab": {
          "base_uri": "https://localhost:8080/"
        },
        "id": "dh8377r3Ghdd",
        "outputId": "b912d053-d76b-4849-989b-240d5b815b88"
      },
      "execution_count": null,
      "outputs": [
        {
          "output_type": "stream",
          "name": "stdout",
          "text": [
            "Tanisha\n"
          ]
        }
      ]
    },
    {
      "cell_type": "code",
      "source": [
        "##String Formatting\n",
        "a=10\n",
        "print(\"The value is -\",a)\n",
        "\n"
      ],
      "metadata": {
        "colab": {
          "base_uri": "https://localhost:8080/"
        },
        "id": "qLCsf4IWHr4-",
        "outputId": "1833f486-01da-4318-a628-19bb127f965f"
      },
      "execution_count": null,
      "outputs": [
        {
          "output_type": "stream",
          "name": "stdout",
          "text": [
            "The value is - 10\n"
          ]
        }
      ]
    },
    {
      "cell_type": "code",
      "source": [
        "first_name=\"Tanisha\"\n",
        "last_name=\"Dhakad\"\n",
        "print(\"The first is {} and last name is {}\".format(first_name,last_name))"
      ],
      "metadata": {
        "colab": {
          "base_uri": "https://localhost:8080/"
        },
        "id": "1sHmtJzZIL-l",
        "outputId": "8eb38e9e-9748-4f14-92b7-c5285a0c5dc4"
      },
      "execution_count": null,
      "outputs": [
        {
          "output_type": "stream",
          "name": "stdout",
          "text": [
            "The first is Tanisha and last name is Dhakad\n"
          ]
        }
      ]
    },
    {
      "cell_type": "code",
      "source": [
        "print(\"hello world\")"
      ],
      "metadata": {
        "id": "m-_kqEoPLPFj",
        "colab": {
          "base_uri": "https://localhost:8080/"
        },
        "outputId": "4020ceda-eb00-46dd-c9af-48cd1fb673c2"
      },
      "execution_count": 24,
      "outputs": [
        {
          "output_type": "stream",
          "name": "stdout",
          "text": [
            "hello world\n"
          ]
        }
      ]
    }
  ]
}